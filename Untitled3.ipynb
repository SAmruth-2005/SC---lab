{
  "nbformat": 4,
  "nbformat_minor": 0,
  "metadata": {
    "colab": {
      "provenance": [],
      "authorship_tag": "ABX9TyM21nmbKgwKaoE1BNccDHRf",
      "include_colab_link": true
    },
    "kernelspec": {
      "name": "python3",
      "display_name": "Python 3"
    },
    "language_info": {
      "name": "python"
    }
  },
  "cells": [
    {
      "cell_type": "markdown",
      "metadata": {
        "id": "view-in-github",
        "colab_type": "text"
      },
      "source": [
        "<a href=\"https://colab.research.google.com/github/SAmruth-2005/SC---lab/blob/main/Untitled3.ipynb\" target=\"_parent\"><img src=\"https://colab.research.google.com/assets/colab-badge.svg\" alt=\"Open In Colab\"/></a>"
      ]
    },
    {
      "cell_type": "code",
      "execution_count": null,
      "metadata": {
        "id": "pstEOJgvW6WW"
      },
      "outputs": [],
      "source": []
    },
    {
      "cell_type": "code",
      "source": [
        "import numpy as np\n",
        "from sklearn.preprocessing import PolynomialFeatures\n",
        "from sklearn.linear_model import LinearRegression\n",
        "humidity = 65\n",
        "wind_speed = 15\n",
        "pressure = 1010\n",
        "precipitation = 12\n",
        "np.random.seed(42)\n",
        "num_samples = 1000\n",
        "data = np.random.uniform(0, 1, (num_samples, 4))\n",
        "data[:, 0] = data[:, 0] * 100\n",
        "data[:, 1] = data[:, 1] * 30\n",
        "data[:, 2] = data[:, 2] * 50 + 990\n",
        "data[:, 3] = data[:, 3] * 100\n",
        "temperature = 25 + 0.1 * data[:, 0] - 0.05 * data[:, 1] + 0.02 * data[:, 2] - 0.01 * data[:, 3]\n",
        "temperature += np.random.normal(0, 5, num_samples)\n",
        "X = data\n",
        "y = temperature\n",
        "poly = PolynomialFeatures(degree=2)\n",
        "X_poly = poly.fit_transform(X)\n",
        "model = LinearRegression()\n",
        "model.fit(X_poly, y)\n",
        "user_input = np.array([[humidity, wind_speed, pressure, precipitation]])\n",
        "user_input_poly = poly.transform(user_input)\n",
        "predicted_temp = model.predict(user_input_poly)\n",
        "print(f\"Predicted Temperature: {predicted_temp[0]:.2f}°C\")"
      ],
      "metadata": {
        "colab": {
          "base_uri": "https://localhost:8080/"
        },
        "id": "0hZkMJnBXOBM",
        "outputId": "c29363c7-7ef1-4238-f258-de37718a815d"
      },
      "execution_count": null,
      "outputs": [
        {
          "output_type": "stream",
          "name": "stdout",
          "text": [
            "Predicted Temperature: 50.37°C\n"
          ]
        }
      ]
    },
    {
      "cell_type": "code",
      "source": [
        "import numpy as np\n",
        "from sklearn.preprocessing import PolynomialFeatures\n",
        "from sklearn.linear_model import LinearRegression\n",
        "print(\"Please enter the following weather data:\")\n",
        "humidity = float(input(\"Enter Humidity (%): \"))\n",
        "wind_speed = float(input(\"Enter Wind Speed (km/h): \"))\n",
        "pressure = float(input(\"Enter Pressure (hPa): \"))\n",
        "precipitation = float(input(\"Enter Precipitation (mm): \"))\n",
        "np.random.seed(42)\n",
        "num_samples = 1000\n",
        "data = np.random.uniform(0, 1, (num_samples, 4))\n",
        "data[:, 0] = data[:, 0] * 100\n",
        "data[:, 1] = data[:, 1] * 30\n",
        "data[:, 2] = data[:, 2] * 50 + 990\n",
        "data[:, 3] = data[:, 3] * 100\n",
        "temperature = 25 + 0.1 * data[:, 0] - 0.05 * data[:, 1] + 0.02 * data[:, 2] - 0.01 * data[:, 3]\n",
        "temperature += np.random.normal(0, 5, num_samples)\n",
        "X = data\n",
        "y = temperature\n",
        "poly = PolynomialFeatures(degree=2)\n",
        "X_poly = poly.fit_transform(X)\n",
        "model = LinearRegression()\n",
        "model.fit(X_poly, y)\n",
        "user_input = np.array([[humidity, wind_speed, pressure, precipitation]])\n",
        "user_input_poly = poly.transform(user_input)\n",
        "predicted_temp = model.predict(user_input_poly)\n",
        "print(f\"Predicted Temperature: {predicted_temp[0]:.2f}°C\")"
      ],
      "metadata": {
        "colab": {
          "base_uri": "https://localhost:8080/"
        },
        "id": "6oA1_7A6bNiU",
        "outputId": "5ca7b632-0e1b-4489-cbf3-32cfa58e1d4d"
      },
      "execution_count": null,
      "outputs": [
        {
          "output_type": "stream",
          "name": "stdout",
          "text": [
            "Please enter the following weather data:\n",
            "Enter Humidity (%): 84\n",
            "Enter Wind Speed (km/h): 3\n",
            "Enter Pressure (hPa): 1014\n",
            "Enter Precipitation (mm): 2\n",
            "Predicted Temperature: 53.83°C\n"
          ]
        }
      ]
    },
    {
      "cell_type": "code",
      "source": [
        "import numpy as np\n",
        "from sklearn.preprocessing import PolynomialFeatures\n",
        "from sklearn.linear_model import LinearRegression\n",
        "print(\"Please enter the following weather data:\")\n",
        "humidity = float(input(\"Enter Humidity (%): \"))\n",
        "wind_speed = float(input(\"Enter Wind Speed (km/h): \"))\n",
        "pressure = float(input(\"Enter Pressure (hPa): \"))\n",
        "precipitation = float(input(\"Enter Precipitation (mm): \"))\n",
        "np.random.seed(42)\n",
        "num_samples = 1000\n",
        "data = np.random.uniform(0, 1, (num_samples, 4))\n",
        "data[:, 0] = data[:, 0] * 100\n",
        "data[:, 1] = data[:, 1] * 30\n",
        "data[:, 2] = data[:, 2] * 50 + 990\n",
        "data[:, 3] = data[:, 3] * 100\n",
        "temperature = 25 + 0.1 * data[:, 0] - 0.05 * data[:, 1] + 0.02 * data[:, 2] - 0.01 * data[:, 3]\n",
        "temperature += np.random.normal(0, 5, num_samples)\n",
        "X = data\n",
        "y = temperature\n",
        "poly = PolynomialFeatures(degree=2)\n",
        "X_poly = poly.fit_transform(X)\n",
        "model = LinearRegression()\n",
        "model.fit(X_poly, y)\n",
        "user_input = np.array([[humidity, wind_speed, pressure, precipitation]])\n",
        "user_input_poly = poly.transform(user_input)\n",
        "predicted_temp = model.predict(user_input_poly)\n",
        "print(f\"Predicted Temperature: {predicted_temp[0]:.2f}°C\")"
      ],
      "metadata": {
        "colab": {
          "base_uri": "https://localhost:8080/"
        },
        "id": "b9bGPpIlenBw",
        "outputId": "b9e57fde-885a-47fd-9f0e-98822c677159"
      },
      "execution_count": 11,
      "outputs": [
        {
          "output_type": "stream",
          "name": "stdout",
          "text": [
            "Please enter the following weather data:\n",
            "Enter Humidity (%): 86\n",
            "Enter Wind Speed (km/h): 6\n",
            "Enter Pressure (hPa): 1010\n",
            "Enter Precipitation (mm): 0\n",
            "Predicted Temperature: 53.60°C\n"
          ]
        }
      ]
    },
    {
      "cell_type": "code",
      "source": [
        "import pandas as pd\n",
        "import numpy as np\n",
        "from sklearn.preprocessing import PolynomialFeatures\n",
        "from sklearn.linear_model import LinearRegression\n",
        "data = pd.read_csv('weather_data.csv')\n",
        "np.random.seed(42)\n",
        "num_samples = 1000\n",
        "train_data = np.random.uniform(0, 1, (num_samples, 4))\n",
        "train_data[:, 0] = train_data[:, 0] * 100\n",
        "train_data[:, 1] = train_data[:, 1] * 30\n",
        "train_data[:, 2] = train_data[:, 2] * 50 + 990\n",
        "train_data[:, 3] = train_data[:, 3] * 100\n",
        "temperature = 25 + 0.1 * train_data[:, 0] - 0.05 * train_data[:, 1] + 0.02 * train_data[:, 2] - 0.01 * train_data[:, 3]\n",
        "temperature += np.random.normal(0, 5, num_samples)\n",
        "X_train = train_data\n",
        "y_train = temperature\n",
        "poly = PolynomialFeatures(degree=2)\n",
        "X_train_poly = poly.fit_transform(X_train)\n",
        "model = LinearRegression()\n",
        "model.fit(X_train_poly, y_train)\n",
        "for index, row in data.iterrows():\n",
        "    user_input = np.array([[row['humidity'], row['wind_speed'], row['pressure'], row['precipitation']]])\n",
        "    user_input_poly = poly.transform(user_input)\n",
        "    predicted_temp = model.predict(user_input_poly)\n",
        "    print(f\"Predicted Temperature for Row {index+1}: {predicted_temp[0]:.2f}°C\")"
      ],
      "metadata": {
        "colab": {
          "base_uri": "https://localhost:8080/"
        },
        "id": "XJ-vVVjle0QQ",
        "outputId": "fe01507d-2fb5-4ab9-ac09-af55e86ef86d"
      },
      "execution_count": 10,
      "outputs": [
        {
          "output_type": "stream",
          "name": "stdout",
          "text": [
            "Predicted Temperature for Row 1: 50.24°C\n",
            "Predicted Temperature for Row 2: 50.81°C\n",
            "Predicted Temperature for Row 3: 51.59°C\n",
            "Predicted Temperature for Row 4: 50.74°C\n",
            "Predicted Temperature for Row 5: 51.83°C\n"
          ]
        }
      ]
    },
    {
      "cell_type": "code",
      "source": [
        "#program for wheather prediction\n",
        "def weather_prediction(t, h, w):\n",
        "    result = (0.5 * t**2 - 0.2 * h - 15) / 0.9\n",
        "    result = round(result)\n",
        "\n",
        "    print(\"\\nWeather Prediction Calculation:\")\n",
        "    print(f\"Temperature (t) = {t}°C\")\n",
        "    print(f\"Humidity (h) = {h}%\")\n",
        "    print(f\"Wind Speed (w) = {w} m/s (Note: this is not used directly in the formula but included in the inputs)\")\n",
        "    print(\"\\nUsing the formula:\")\n",
        "    print(\"w = (0.5 * t^2 - 0.2 * h - 15) / 0.9\")\n",
        "\n",
        "    print(f\"\\nCalculated Weather Prediction (w) = {result}\")\n",
        "\n",
        "    if result > 40:\n",
        "        weather_condition = \"Sunny\"\n",
        "    elif 20 <= result <= 40:\n",
        "        weather_condition = \"Partly Cloudy\"\n",
        "    elif 0 <= result < 20:\n",
        "        weather_condition = \"Cloudy\"\n",
        "    elif result < 0:\n",
        "        weather_condition = \"Rainy\"\n",
        "\n",
        "    print(f\"Weather Condition: {weather_condition}\")\n",
        "\n",
        "\n",
        "temperature = float(input(\"Enter the temperature (°C): \"))\n",
        "humidity = float(input(\"Enter the humidity (%): \"))\n",
        "wind_speed = float(input(\"Enter the wind speed (m/s): \"))\n",
        "\n",
        "weather_prediction(temperature, humidity, wind_speed)\n"
      ],
      "metadata": {
        "colab": {
          "base_uri": "https://localhost:8080/"
        },
        "id": "RXbNCmvxdIrZ",
        "outputId": "fc908f3a-707c-43ab-907e-606aaec8dcf6"
      },
      "execution_count": 12,
      "outputs": [
        {
          "output_type": "stream",
          "name": "stdout",
          "text": [
            "Enter the temperature (°C): 8\n",
            "Enter the humidity (%): 97\n",
            "Enter the wind speed (m/s): 20\n",
            "\n",
            "Weather Prediction Calculation:\n",
            "Temperature (t) = 8.0°C\n",
            "Humidity (h) = 97.0%\n",
            "Wind Speed (w) = 20.0 m/s (Note: this is not used directly in the formula but included in the inputs)\n",
            "\n",
            "Using the formula:\n",
            "w = (0.5 * t^2 - 0.2 * h - 15) / 0.9\n",
            "\n",
            "Calculated Weather Prediction (w) = -3\n",
            "Weather Condition: Rainy\n"
          ]
        }
      ]
    }
  ]
}